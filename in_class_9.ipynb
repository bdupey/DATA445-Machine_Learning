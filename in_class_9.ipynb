{
 "cells": [
  {
   "cell_type": "markdown",
   "metadata": {},
   "source": [
    "Exercise 1: \n",
    "\n",
    "If input = (0,0), output = 0\n",
    "\n",
    "If input = (0,1), output = 0 \n",
    "\n",
    "If input = (1,1), output = 1\n",
    "\n",
    "If input = (1,0), output = 0\n",
    "\n",
    "\n",
    "Exercise 2:\n",
    "\n",
    "h_1=7\n",
    "\n",
    "H_1=.999\n",
    "\n",
    "h_2=-5\n",
    "\n",
    "H_2=.00669\n",
    "\n",
    "o_1 = 1.0996\n",
    "\n",
    "O_1 = 0.75\n",
    "\n",
    "o_2 = 3.104\n",
    "\n",
    "O_2 = .957\n",
    "\n",
    "Likelihood associated to each label:\n",
    "\n",
    "P_o_2 = 0.44\n",
    "\n",
    "P_O_2 = 0.56\n",
    "\n",
    "\n"
   ]
  },
  {
   "cell_type": "markdown",
   "metadata": {},
   "source": []
  }
 ],
 "metadata": {
  "language_info": {
   "name": "python"
  },
  "orig_nbformat": 4
 },
 "nbformat": 4,
 "nbformat_minor": 2
}
