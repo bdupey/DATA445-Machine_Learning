{
 "cells": [
  {
   "cell_type": "code",
   "execution_count": 11,
   "metadata": {},
   "outputs": [],
   "source": [
    "import pandas as pd\n",
    "import numpy as np\n",
    "\n",
    "from sklearn.linear_model import LogisticRegression, Perceptron\n",
    "from sklearn.preprocessing import StandardScaler\n",
    "from sklearn.metrics import classification_report\n",
    "from sklearn.pipeline import make_pipeline\n",
    "from sklearn.model_selection import train_test_split"
   ]
  },
  {
   "cell_type": "code",
   "execution_count": 14,
   "metadata": {},
   "outputs": [
    {
     "name": "stdout",
     "output_type": "stream",
     "text": [
      "              precision    recall  f1-score   support\n",
      "\n",
      "           0       0.87      0.85      0.86       617\n",
      "           1       0.28      0.31      0.30       115\n",
      "\n",
      "    accuracy                           0.77       732\n",
      "   macro avg       0.57      0.58      0.58       732\n",
      "weighted avg       0.78      0.77      0.77       732\n",
      "\n"
     ]
    }
   ],
   "source": [
    "heart=pd.read_csv('framingham.csv')\n",
    "heart=heart.dropna()\n",
    "X=heart[['age','currentSmoker','totChol','BMI','heartRate']]\n",
    "Y=heart['TenYearCHD']\n",
    "X_train,X_test,Y_train,Y_test=train_test_split(X,Y,test_size=0.2)\n",
    "logit_md=make_pipeline(StandardScaler(), LogisticRegression()).fit(X_train, Y_train)\n",
    "logit_pred=logit_md.predict_proba(X_test)[:, 1]\n",
    "logit_label = np.where(logit_pred<0.25,0,1)\n",
    "print(classification_report(Y_test,logit_label))"
   ]
  },
  {
   "cell_type": "code",
   "execution_count": 16,
   "metadata": {},
   "outputs": [
    {
     "name": "stdout",
     "output_type": "stream",
     "text": [
      "              precision    recall  f1-score   support\n",
      "\n",
      "           0       0.86      0.73      0.79       617\n",
      "           1       0.20      0.36      0.26       115\n",
      "\n",
      "    accuracy                           0.67       732\n",
      "   macro avg       0.53      0.54      0.52       732\n",
      "weighted avg       0.76      0.67      0.71       732\n",
      "\n"
     ]
    }
   ],
   "source": [
    "per_md=make_pipeline(StandardScaler(),\n",
    "                     Perceptron(penalty='l2',alpha=0.01)).fit(X_train, Y_train)\n",
    "per_pred=per_md.predict(X_test)\n",
    "print(classification_report(Y_test,per_pred))"
   ]
  },
  {
   "cell_type": "code",
   "execution_count": 17,
   "metadata": {},
   "outputs": [],
   "source": [
    "## Based on my results, I would use the logistic regression model to predict TenYearCHD."
   ]
  }
 ],
 "metadata": {
  "kernelspec": {
   "display_name": "Python 3",
   "language": "python",
   "name": "python3"
  },
  "language_info": {
   "codemirror_mode": {
    "name": "ipython",
    "version": 3
   },
   "file_extension": ".py",
   "mimetype": "text/x-python",
   "name": "python",
   "nbconvert_exporter": "python",
   "pygments_lexer": "ipython3",
   "version": "3.11.4"
  },
  "orig_nbformat": 4
 },
 "nbformat": 4,
 "nbformat_minor": 2
}
