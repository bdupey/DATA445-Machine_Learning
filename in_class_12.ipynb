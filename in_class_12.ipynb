{
 "cells": [
  {
   "cell_type": "code",
   "execution_count": 9,
   "metadata": {},
   "outputs": [],
   "source": [
    "import pandas as pd\n",
    "import numpy as np\n",
    "\n",
    "from sklearn.pipeline import make_pipeline, Pipeline\n",
    "from sklearn.linear_model import LogisticRegression\n",
    "from sklearn.ensemble import BaggingClassifier\n",
    "from sklearn.model_selection import train_test_split\n",
    "from sklearn.preprocessing import MinMaxScaler\n",
    "from sklearn.metrics import recall_score"
   ]
  },
  {
   "cell_type": "code",
   "execution_count": 24,
   "metadata": {},
   "outputs": [
    {
     "name": "stdout",
     "output_type": "stream",
     "text": [
      "The recall of the logistic regression model is 0.8928571428571429\n",
      "The recall of the bagged logistic regression model is 0.8660714285714286\n"
     ]
    }
   ],
   "source": [
    "heart=pd.read_csv('framingham.csv')\n",
    "heart.dropna(inplace=True)\n",
    "X=heart[['age', 'currentSmoker', 'totChol', 'BMI', 'heartRate']] \n",
    "y=heart['TenYearCHD']\n",
    "X_train,X_test,y_train,y_test=train_test_split(X,y, test_size=0.2, stratify=y)\n",
    "# Logistic Regression\n",
    "logit_md=make_pipeline(MinMaxScaler(), \n",
    "                       LogisticRegression()).fit(X_train, y_train)\n",
    "logit_pred=logit_md.predict_proba(X_test)[:, 1]\n",
    "logit_label=np.where(logit_pred<0.1, 0, 1)\n",
    "print(f\"The recall of the logistic regression model is {recall_score(y_test, logit_label)}\")\n",
    "# Bagging Logistic\n",
    "bag_md=BaggingClassifier(estimator=make_pipeline(MinMaxScaler(), \n",
    "                                                 LogisticRegression()),           \n",
    "                                    n_estimators=40).fit(X_train, y_train)\n",
    "bag_pred=bag_md.predict_proba(X_test)[:,1]\n",
    "bag_label=np.where(bag_pred<.1, 0, 1)\n",
    "print(f\"The recall of the bagged logistic regression model is {recall_score(y_test, bag_label)}\")"
   ]
  },
  {
   "cell_type": "markdown",
   "metadata": {},
   "source": [
    "Based on these results:...\n",
    "\n",
    "The recall of the logistic regression model is 0.8928571428571429\n",
    "The recall of the bagged logistic regression model is 0.8660714285714286\n",
    "\n",
    "...I would use the logistic regression model without bagging."
   ]
  }
 ],
 "metadata": {
  "kernelspec": {
   "display_name": "Python 3",
   "language": "python",
   "name": "python3"
  },
  "language_info": {
   "codemirror_mode": {
    "name": "ipython",
    "version": 3
   },
   "file_extension": ".py",
   "mimetype": "text/x-python",
   "name": "python",
   "nbconvert_exporter": "python",
   "pygments_lexer": "ipython3",
   "version": "3.11.4"
  },
  "orig_nbformat": 4
 },
 "nbformat": 4,
 "nbformat_minor": 2
}
