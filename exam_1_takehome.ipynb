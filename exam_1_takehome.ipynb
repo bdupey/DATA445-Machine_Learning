{
 "cells": [
  {
   "cell_type": "code",
   "execution_count": 106,
   "metadata": {},
   "outputs": [],
   "source": [
    "import pandas as pd\\\n",
    "\n",
    "import numpy as np\n",
    "\n",
    "from tqdm import tqdm_notebook,tqdm\n",
    "\n",
    "from sklearn.model_selection import KFold, train_test_split, StratifiedKFold\n",
    "from sklearn.pipeline import make_pipeline, Pipeline\n",
    "from sklearn.preprocessing import MinMaxScaler\n",
    "from sklearn.linear_model import LinearRegression, LogisticRegression, Ridge, RidgeCV, Lasso, LassoCV\n",
    "from sklearn.metrics import mean_squared_error, recall_score"
   ]
  },
  {
   "cell_type": "markdown",
   "metadata": {},
   "source": [
    "# Exercise 1"
   ]
  },
  {
   "cell_type": "code",
   "execution_count": 74,
   "metadata": {},
   "outputs": [
    {
     "data": {
      "text/html": [
       "<div>\n",
       "<style scoped>\n",
       "    .dataframe tbody tr th:only-of-type {\n",
       "        vertical-align: middle;\n",
       "    }\n",
       "\n",
       "    .dataframe tbody tr th {\n",
       "        vertical-align: top;\n",
       "    }\n",
       "\n",
       "    .dataframe thead th {\n",
       "        text-align: right;\n",
       "    }\n",
       "</style>\n",
       "<table border=\"1\" class=\"dataframe\">\n",
       "  <thead>\n",
       "    <tr style=\"text-align: right;\">\n",
       "      <th></th>\n",
       "      <th>Private</th>\n",
       "      <th>Apps</th>\n",
       "      <th>Accept</th>\n",
       "      <th>Enroll</th>\n",
       "      <th>Top10perc</th>\n",
       "      <th>Top25perc</th>\n",
       "      <th>F.Undergrad</th>\n",
       "      <th>P.Undergrad</th>\n",
       "      <th>Outstate</th>\n",
       "      <th>Room.Board</th>\n",
       "      <th>Books</th>\n",
       "      <th>Personal</th>\n",
       "      <th>PhD</th>\n",
       "      <th>Terminal</th>\n",
       "      <th>S.F.Ratio</th>\n",
       "      <th>perc.alumni</th>\n",
       "      <th>Expend</th>\n",
       "      <th>Grad.Rate</th>\n",
       "    </tr>\n",
       "  </thead>\n",
       "  <tbody>\n",
       "    <tr>\n",
       "      <th>Abilene Christian University</th>\n",
       "      <td>Yes</td>\n",
       "      <td>1660</td>\n",
       "      <td>1232</td>\n",
       "      <td>721</td>\n",
       "      <td>23</td>\n",
       "      <td>52</td>\n",
       "      <td>2885</td>\n",
       "      <td>537</td>\n",
       "      <td>7440</td>\n",
       "      <td>3300</td>\n",
       "      <td>450</td>\n",
       "      <td>2200</td>\n",
       "      <td>70</td>\n",
       "      <td>78</td>\n",
       "      <td>18.1</td>\n",
       "      <td>12</td>\n",
       "      <td>7041</td>\n",
       "      <td>60</td>\n",
       "    </tr>\n",
       "    <tr>\n",
       "      <th>Adelphi University</th>\n",
       "      <td>Yes</td>\n",
       "      <td>2186</td>\n",
       "      <td>1924</td>\n",
       "      <td>512</td>\n",
       "      <td>16</td>\n",
       "      <td>29</td>\n",
       "      <td>2683</td>\n",
       "      <td>1227</td>\n",
       "      <td>12280</td>\n",
       "      <td>6450</td>\n",
       "      <td>750</td>\n",
       "      <td>1500</td>\n",
       "      <td>29</td>\n",
       "      <td>30</td>\n",
       "      <td>12.2</td>\n",
       "      <td>16</td>\n",
       "      <td>10527</td>\n",
       "      <td>56</td>\n",
       "    </tr>\n",
       "    <tr>\n",
       "      <th>Adrian College</th>\n",
       "      <td>Yes</td>\n",
       "      <td>1428</td>\n",
       "      <td>1097</td>\n",
       "      <td>336</td>\n",
       "      <td>22</td>\n",
       "      <td>50</td>\n",
       "      <td>1036</td>\n",
       "      <td>99</td>\n",
       "      <td>11250</td>\n",
       "      <td>3750</td>\n",
       "      <td>400</td>\n",
       "      <td>1165</td>\n",
       "      <td>53</td>\n",
       "      <td>66</td>\n",
       "      <td>12.9</td>\n",
       "      <td>30</td>\n",
       "      <td>8735</td>\n",
       "      <td>54</td>\n",
       "    </tr>\n",
       "    <tr>\n",
       "      <th>Agnes Scott College</th>\n",
       "      <td>Yes</td>\n",
       "      <td>417</td>\n",
       "      <td>349</td>\n",
       "      <td>137</td>\n",
       "      <td>60</td>\n",
       "      <td>89</td>\n",
       "      <td>510</td>\n",
       "      <td>63</td>\n",
       "      <td>12960</td>\n",
       "      <td>5450</td>\n",
       "      <td>450</td>\n",
       "      <td>875</td>\n",
       "      <td>92</td>\n",
       "      <td>97</td>\n",
       "      <td>7.7</td>\n",
       "      <td>37</td>\n",
       "      <td>19016</td>\n",
       "      <td>59</td>\n",
       "    </tr>\n",
       "    <tr>\n",
       "      <th>Alaska Pacific University</th>\n",
       "      <td>Yes</td>\n",
       "      <td>193</td>\n",
       "      <td>146</td>\n",
       "      <td>55</td>\n",
       "      <td>16</td>\n",
       "      <td>44</td>\n",
       "      <td>249</td>\n",
       "      <td>869</td>\n",
       "      <td>7560</td>\n",
       "      <td>4120</td>\n",
       "      <td>800</td>\n",
       "      <td>1500</td>\n",
       "      <td>76</td>\n",
       "      <td>72</td>\n",
       "      <td>11.9</td>\n",
       "      <td>2</td>\n",
       "      <td>10922</td>\n",
       "      <td>15</td>\n",
       "    </tr>\n",
       "  </tbody>\n",
       "</table>\n",
       "</div>"
      ],
      "text/plain": [
       "                             Private  Apps  Accept  Enroll  Top10perc  \\\n",
       "Abilene Christian University     Yes  1660    1232     721         23   \n",
       "Adelphi University               Yes  2186    1924     512         16   \n",
       "Adrian College                   Yes  1428    1097     336         22   \n",
       "Agnes Scott College              Yes   417     349     137         60   \n",
       "Alaska Pacific University        Yes   193     146      55         16   \n",
       "\n",
       "                              Top25perc  F.Undergrad  P.Undergrad  Outstate  \\\n",
       "Abilene Christian University         52         2885          537      7440   \n",
       "Adelphi University                   29         2683         1227     12280   \n",
       "Adrian College                       50         1036           99     11250   \n",
       "Agnes Scott College                  89          510           63     12960   \n",
       "Alaska Pacific University            44          249          869      7560   \n",
       "\n",
       "                              Room.Board  Books  Personal  PhD  Terminal  \\\n",
       "Abilene Christian University        3300    450      2200   70        78   \n",
       "Adelphi University                  6450    750      1500   29        30   \n",
       "Adrian College                      3750    400      1165   53        66   \n",
       "Agnes Scott College                 5450    450       875   92        97   \n",
       "Alaska Pacific University           4120    800      1500   76        72   \n",
       "\n",
       "                              S.F.Ratio  perc.alumni  Expend  Grad.Rate  \n",
       "Abilene Christian University       18.1           12    7041         60  \n",
       "Adelphi University                 12.2           16   10527         56  \n",
       "Adrian College                     12.9           30    8735         54  \n",
       "Agnes Scott College                 7.7           37   19016         59  \n",
       "Alaska Pacific University          11.9            2   10922         15  "
      ]
     },
     "execution_count": 74,
     "metadata": {},
     "output_type": "execute_result"
    }
   ],
   "source": [
    "# a)\n",
    "\n",
    "college=pd.read_csv('College.csv')\n",
    "college.head()"
   ]
  },
  {
   "cell_type": "code",
   "execution_count": 75,
   "metadata": {},
   "outputs": [],
   "source": [
    "# b)\n",
    "\n",
    "college['Private']=college['Private'].replace({'Yes':0, 'No':1}).astype(int)"
   ]
  },
  {
   "cell_type": "code",
   "execution_count": 76,
   "metadata": {},
   "outputs": [],
   "source": [
    "# c)\n",
    "\n",
    "X = college[['Private', 'F.Undergrad', 'P.Undergrad', 'Outstate', 'Room.Board', 'Books',\n",
    "'Personal', 'S.F.Ratio', 'Grad.Rate']]\n",
    "y = college['Apps']\n",
    "X_train, X_test, y_train, y_test = train_test_split(X, y, test_size=0.2)"
   ]
  },
  {
   "cell_type": "code",
   "execution_count": 77,
   "metadata": {},
   "outputs": [
    {
     "name": "stdout",
     "output_type": "stream",
     "text": [
      "The mse of the linear model is 2216860.0490200273\n"
     ]
    }
   ],
   "source": [
    "# d)\n",
    "lm_md=make_pipeline(MinMaxScaler(), LinearRegression()).fit(X_train, y_train)\n",
    "lm_pred=lm_md.predict(X_test)\n",
    "lm_mse=mean_squared_error(y_test, lm_pred)\n",
    "print(\"The mse of the linear model is\",lm_mse)"
   ]
  },
  {
   "cell_type": "code",
   "execution_count": null,
   "metadata": {},
   "outputs": [],
   "source": [
    "# e)\n",
    "ridge_lambda=list()\n",
    "alphas_to_use=np.linspace(0.001, 100, num = 100)\n",
    "for i in tqdm(range(0,100)):\n",
    "    kf=KFold(n_splits=5, shuffle=True, random_state=i)\n",
    "    ridge_cv=Pipeline([('scaler', MinMaxScaler()),\n",
    "                       ('model', RidgeCV(alphas=alphas_to_use,\n",
    "                                        cv=kf.split(X_train)))]).fit(X_train, y_train)\n",
    "    ridge_lambda.append(ridge_cv.named_steps['model'].alpha_)\n",
    "pd.DataFrame(ridge_lambda).value_counts()"
   ]
  },
  {
   "cell_type": "code",
   "execution_count": 81,
   "metadata": {},
   "outputs": [
    {
     "data": {
      "text/plain": [
       "1.011091    1\n",
       "Name: count, dtype: int64"
      ]
     },
     "execution_count": 81,
     "metadata": {},
     "output_type": "execute_result"
    }
   ],
   "source": [
    "# e)\n",
    "ridge_lambda=list()\n",
    "alphas_to_use=np.linspace(0.001, 100, num = 100)\n",
    "kf=KFold(n_splits=5, shuffle=True, random_state=i)\n",
    "ridge_cv=Pipeline([('scaler', MinMaxScaler()),\n",
    "                    ('model', RidgeCV(alphas=alphas_to_use,\n",
    "                                    cv=kf.split(X_train)))]).fit(X_train, y_train)\n",
    "ridge_lambda.append(ridge_cv.named_steps['model'].alpha_)\n",
    "pd.DataFrame(ridge_lambda).value_counts()"
   ]
  },
  {
   "cell_type": "code",
   "execution_count": 82,
   "metadata": {},
   "outputs": [
    {
     "name": "stdout",
     "output_type": "stream",
     "text": [
      "The Ridge model mse is 2333139.9072945258\n"
     ]
    }
   ],
   "source": [
    "# e) (continued...)\n",
    "## Using alpha 1.011091\n",
    "\n",
    "ridge_md=make_pipeline(MinMaxScaler(), Ridge(alpha=1.011091)).fit(X_train,y_train)\n",
    "ridge_pred=ridge_md.predict(X_test)\n",
    "ridge_mse=mean_squared_error(y_test, ridge_pred)\n",
    "print('The Ridge model mse is', ridge_mse)"
   ]
  },
  {
   "cell_type": "code",
   "execution_count": 83,
   "metadata": {},
   "outputs": [
    {
     "name": "stdout",
     "output_type": "stream",
     "text": [
      "The Lasso model mse is 2281637.325395038\n"
     ]
    }
   ],
   "source": [
    "# f)\n",
    "kf=KFold(n_splits=5, shuffle=True, random_state=i)\n",
    "lasso_cv=Pipeline([('scaler', MinMaxScaler()),\n",
    "                   ('model', LassoCV(alphas=np.linspace(0.001, 100, num=100), cv=kf.split(X_train)))]).fit(X_train, y_train)\n",
    "lasso_lambda=lasso_cv.named_steps['model'].alpha_\n",
    "lasso_md=Pipeline([('scaler', MinMaxScaler()),\n",
    "                   ('model', Lasso(alpha=lasso_lambda))]).fit(X_train, y_train)\n",
    "lasso_md_pred=lasso_md.predict(X_test)\n",
    "lasso_mse=mean_squared_error(y_test,lasso_md_pred)\n",
    "print('The Lasso model mse is', lasso_mse)\n"
   ]
  },
  {
   "cell_type": "markdown",
   "metadata": {},
   "source": [
    "  g)\n",
    "\n",
    "  Given the outputs:\n",
    "\n",
    "  \"The mse of the linear model is 2216860.0490200273\n",
    "\n",
    "  The Ridge model mse is 2333139.9072945258\n",
    "  \n",
    "  The Lasso model mse is 2281637.325395038\"\n",
    "\n",
    "  I would use the linear model to predict the number of applications that a university receives."
   ]
  },
  {
   "cell_type": "markdown",
   "metadata": {},
   "source": [
    "# Exercise 2"
   ]
  },
  {
   "cell_type": "code",
   "execution_count": 91,
   "metadata": {},
   "outputs": [],
   "source": [
    "# a)\n",
    "\n",
    "telecom_train=pd.read_csv('churn-bigml-80.csv')\n",
    "telecom_test=pd.read_csv('churn-bigml-20.csv')"
   ]
  },
  {
   "cell_type": "code",
   "execution_count": 92,
   "metadata": {},
   "outputs": [],
   "source": [
    "# b)\n",
    "\n",
    "telecom_train['Churn']=telecom_train['Churn'].astype(str)\n",
    "telecom_test['Churn']=telecom_test['Churn'].astype(str)\n",
    "telecom_train['Churn']=telecom_train['Churn'].replace({'True': 1, 'False': 0})\n",
    "telecom_test['Churn']=telecom_test['Churn'].replace({'True': 1, 'False': 0})\n",
    "\n",
    "telecom_train['International_plan']=telecom_train['International_plan'].replace({'Yes': 1, 'No': 0})\n",
    "telecom_test['International_plan']=telecom_test['International_plan'].replace({'Yes': 1, 'No': 0})\n",
    "\n",
    "telecom_train['Voice_mail_plan']=telecom_train['Voice_mail_plan'].replace({'Yes': 1, 'No': 0})\n",
    "telecom_test['Voice_mail_plan']=telecom_test['Voice_mail_plan'].replace({'Yes': 1, 'No': 0})\n",
    "\n",
    "telecom_train['Voice_mail_plan']=telecom_train['Voice_mail_plan'].replace({'Yes': 1, 'No': 0})\n",
    "telecom_test['Voice_mail_plan']=telecom_test['Voice_mail_plan'].replace({'Yes': 1, 'No': 0})\n",
    "\n",
    "telecom_train['Voice_mail_plan']=telecom_train['Voice_mail_plan'].replace({'Yes': 1, 'No': 0})\n",
    "telecom_test['Voice_mail_plan']=telecom_test['Voice_mail_plan'].replace({'Yes': 1, 'No': 0})\n",
    "\n",
    "telecom_train['total_charge']=telecom_train[['Total_day_charge','Total_eve_charge','Total_night_charge','Total_intl_charge']].sum(axis=1)\n",
    "telecom_test['total_charge']=telecom_test[['Total_day_charge','Total_eve_charge','Total_night_charge','Total_intl_charge']].sum(axis=1)"
   ]
  },
  {
   "cell_type": "code",
   "execution_count": 93,
   "metadata": {},
   "outputs": [],
   "source": [
    "# c)\n",
    "\n",
    "telecom_train=telecom_train[['Account_length', 'International_plan', 'Voice_mail_plan', 'total_charge', 'Customer_service_calls', 'Churn']]\n",
    "telecom_test=telecom_test[['Account_length', 'International_plan', 'Voice_mail_plan', 'total_charge', 'Customer_service_calls', 'Churn']]"
   ]
  },
  {
   "cell_type": "code",
   "execution_count": 94,
   "metadata": {},
   "outputs": [],
   "source": [
    "# d)\n",
    "\n",
    "# 1)\n",
    "X=telecom_train[['Account_length', 'International_plan', 'Voice_mail_plan', 'total_charge', 'Customer_service_calls']]\n",
    "y=telecom_train[['Churn']]\n",
    "X_train, X_test, y_train, y_test = train_test_split(X, y, test_size=0.2, stratify=y)"
   ]
  },
  {
   "cell_type": "code",
   "execution_count": 101,
   "metadata": {},
   "outputs": [
    {
     "name": "stderr",
     "output_type": "stream",
     "text": [
      "100%|██████████| 1000/1000 [00:57<00:00, 17.37it/s]\n"
     ]
    },
    {
     "data": {
      "text/html": [
       "<div>\n",
       "<style scoped>\n",
       "    .dataframe tbody tr th:only-of-type {\n",
       "        vertical-align: middle;\n",
       "    }\n",
       "\n",
       "    .dataframe tbody tr th {\n",
       "        vertical-align: top;\n",
       "    }\n",
       "\n",
       "    .dataframe thead th {\n",
       "        text-align: right;\n",
       "    }\n",
       "</style>\n",
       "<table border=\"1\" class=\"dataframe\">\n",
       "  <thead>\n",
       "    <tr style=\"text-align: right;\">\n",
       "      <th></th>\n",
       "      <th>Account_length</th>\n",
       "      <th>International_plan</th>\n",
       "      <th>Voice_mail_plan</th>\n",
       "      <th>total_charge</th>\n",
       "      <th>Customer_service_calls</th>\n",
       "    </tr>\n",
       "  </thead>\n",
       "  <tbody>\n",
       "    <tr>\n",
       "      <th>0</th>\n",
       "      <td>0.042982</td>\n",
       "      <td>0.310651</td>\n",
       "      <td>-0.077691</td>\n",
       "      <td>0.487594</td>\n",
       "      <td>0.546110</td>\n",
       "    </tr>\n",
       "    <tr>\n",
       "      <th>1</th>\n",
       "      <td>0.043373</td>\n",
       "      <td>0.310778</td>\n",
       "      <td>-0.077745</td>\n",
       "      <td>0.488180</td>\n",
       "      <td>0.546686</td>\n",
       "    </tr>\n",
       "    <tr>\n",
       "      <th>2</th>\n",
       "      <td>0.043373</td>\n",
       "      <td>0.310778</td>\n",
       "      <td>-0.077745</td>\n",
       "      <td>0.488180</td>\n",
       "      <td>0.546686</td>\n",
       "    </tr>\n",
       "    <tr>\n",
       "      <th>3</th>\n",
       "      <td>0.042982</td>\n",
       "      <td>0.310651</td>\n",
       "      <td>-0.077691</td>\n",
       "      <td>0.487594</td>\n",
       "      <td>0.546110</td>\n",
       "    </tr>\n",
       "    <tr>\n",
       "      <th>4</th>\n",
       "      <td>0.043373</td>\n",
       "      <td>0.310778</td>\n",
       "      <td>-0.077745</td>\n",
       "      <td>0.488180</td>\n",
       "      <td>0.546686</td>\n",
       "    </tr>\n",
       "  </tbody>\n",
       "</table>\n",
       "</div>"
      ],
      "text/plain": [
       "   Account_length  International_plan  Voice_mail_plan  total_charge  \\\n",
       "0        0.042982            0.310651        -0.077691      0.487594   \n",
       "1        0.043373            0.310778        -0.077745      0.488180   \n",
       "2        0.043373            0.310778        -0.077745      0.488180   \n",
       "3        0.042982            0.310651        -0.077691      0.487594   \n",
       "4        0.043373            0.310778        -0.077745      0.488180   \n",
       "\n",
       "   Customer_service_calls  \n",
       "0                0.546110  \n",
       "1                0.546686  \n",
       "2                0.546686  \n",
       "3                0.546110  \n",
       "4                0.546686  "
      ]
     },
     "execution_count": 101,
     "metadata": {},
     "output_type": "execute_result"
    }
   ],
   "source": [
    "# d)\n",
    "\n",
    "# 2)\n",
    "\n",
    "lasso_coef = []\n",
    "for i in tqdm(range(0, 1000)):\n",
    "    kf = KFold(n_splits=5, shuffle=True, random_state=i)\n",
    "    y_train_1d=y_train.to_numpy().ravel()\n",
    "    lasso_cv = Pipeline([('scaler', MinMaxScaler()),\n",
    "                        ('model', LassoCV(cv=kf))]).fit(X_train, y_train_1d)\n",
    "    lasso_lambda = lasso_cv.named_steps['model'].alpha_\n",
    "    lasso_md = Pipeline([('scaler', MinMaxScaler()),\n",
    "                        ('model', Lasso(alpha=lasso_lambda))]).fit(X_train, y_train_1d)\n",
    "    lasso_coef.append(lasso_md.named_steps['model'].coef_)\n",
    "\n",
    "lasso_coef = pd.DataFrame(lasso_coef)\n",
    "lasso_coef.columns = X_train.columns.tolist()\n",
    "lasso_coef.head()\n"
   ]
  },
  {
   "cell_type": "code",
   "execution_count": 105,
   "metadata": {},
   "outputs": [],
   "source": [
    "# d) \n",
    "\n",
    "# ii) (continued...)\n",
    "telecom_train.drop(columns=['Account_length', 'Voice_mail_plan'], axis=1, inplace=True)\n",
    "telecom_test.drop(columns=['Account_length', 'Voice_mail_plan'], axis=1, inplace=True)"
   ]
  },
  {
   "cell_type": "code",
   "execution_count": 110,
   "metadata": {},
   "outputs": [
    {
     "name": "stdout",
     "output_type": "stream",
     "text": [
      "Model 1 average recall is  0.8505827505827506\n",
      "Model 2 average recall is  0.8738927738927739\n",
      "Model 3 average recall is  0.847985347985348\n",
      "Model 4 average recall is  0.8557775557775559\n"
     ]
    }
   ],
   "source": [
    "# e)\n",
    "\n",
    "# i & ii)\n",
    "recall_scores_md1=[]\n",
    "recall_scores_md2=[]\n",
    "recall_scores_md3=[]\n",
    "recall_scores_md4=[]\n",
    "stratified_kf = StratifiedKFold(n_splits=5, shuffle=True, random_state=42)\n",
    "for train_index, test_index in stratified_kf.split(X, y):\n",
    "    X_train, X_test = X.iloc[train_index], X.iloc[test_index]\n",
    "    y_train, y_test = y.iloc[train_index], y.iloc[test_index]\n",
    "    y_train=y_train.to_numpy().ravel()\n",
    "    #################\n",
    "    # Logit Model 1 #\n",
    "    #################\n",
    "\n",
    "    logit_md_1=Pipeline([('scaler', MinMaxScaler()), ('model', LogisticRegression(solver='liblinear', penalty='l1'))])\n",
    "    logit_md_1.fit(X_train, y_train)\n",
    "\n",
    "    y_pred_1=logit_md_1.predict_proba(X_test)[:, 1]\n",
    "    y_pred_label_1=np.where(y_pred_1<0.1,0,1)\n",
    "    md_1_recall=recall_score(y_test, y_pred_label_1)\n",
    "    recall_scores_md1.append(md_1_recall)\n",
    "\n",
    "    #################\n",
    "    # Logit Model 2 #\n",
    "    #################\n",
    "\n",
    "    logit_md_2=Pipeline([('scaler', MinMaxScaler()), ('model', LogisticRegression(solver='liblinear', penalty='l2'))])\n",
    "    logit_md_2.fit(X_train, y_train)\n",
    "\n",
    "    y_pred_2=logit_md_2.predict_proba(X_test)[:, 1]\n",
    "    y_pred_label_2=np.where(y_pred_2<0.1,0,1)\n",
    "    md_2_recall=recall_score(y_test, y_pred_label_2)\n",
    "    recall_scores_md2.append(md_2_recall)\n",
    "\n",
    "    #################\n",
    "    # Logit Model 3 #\n",
    "    #################\n",
    "\n",
    "    logit_md_3=Pipeline([('scaler', MinMaxScaler()), ('model', LogisticRegression(solver='saga', penalty='l1'))])\n",
    "    logit_md_3.fit(X_train, y_train)\n",
    "\n",
    "    y_pred_3=logit_md_3.predict_proba(X_test)[:, 1]\n",
    "    y_pred_label_3=np.where(y_pred_3<0.1,0,1)\n",
    "    md_3_recall=recall_score(y_test, y_pred_label_3)\n",
    "    recall_scores_md3.append(md_3_recall)\n",
    "\n",
    "    #################\n",
    "    # Logit Model 4 #\n",
    "    #################\n",
    "\n",
    "    logit_md_4=Pipeline([('scaler', MinMaxScaler()), ('model', LogisticRegression(solver='saga', penalty='l2'))])\n",
    "    logit_md_4.fit(X_train, y_train)\n",
    "\n",
    "    y_pred_4=logit_md_4.predict_proba(X_test)[:, 1]\n",
    "    y_pred_label_4=np.where(y_pred_4<0.1,0,1)\n",
    "    md_4_recall=recall_score(y_test, y_pred_label_4)\n",
    "    recall_scores_md4.append(md_4_recall)\n",
    "\n",
    "md_1_avg_recall=np.mean(recall_scores_md1)\n",
    "md_2_avg_recall=np.mean(recall_scores_md2)\n",
    "md_3_avg_recall=np.mean(recall_scores_md3)\n",
    "md_4_avg_recall=np.mean(recall_scores_md4)\n",
    "\n",
    "print(\"Model 1 average recall is \", md_1_avg_recall)\n",
    "print(\"Model 2 average recall is \", md_2_avg_recall)\n",
    "print(\"Model 3 average recall is \", md_3_avg_recall)\n",
    "print(\"Model 4 average recall is \", md_4_avg_recall)"
   ]
  },
  {
   "cell_type": "code",
   "execution_count": 120,
   "metadata": {},
   "outputs": [
    {
     "name": "stderr",
     "output_type": "stream",
     "text": [
      "100%|██████████| 100/100 [00:21<00:00,  4.61it/s]\n"
     ]
    },
    {
     "data": {
      "image/png": "[encoded data removed]",
      "text/plain": [
       "<Figure size 1200x600 with 1 Axes>"
      ]
     },
     "metadata": {},
     "output_type": "display_data"
    },
    {
     "name": "stdout",
     "output_type": "stream",
     "text": [
      "Model 1 average recall is  0.8505827505827506\n",
      "Model 2 average recall is  0.8738927738927739\n",
      "Model 3 average recall is  0.847985347985348\n",
      "Model 4 average recall is  0.8557775557775559\n"
     ]
    }
   ],
   "source": [
    "# f)\n",
    "\n",
    "avg_recall_scores_md1=[]\n",
    "avg_recall_scores_md2=[]\n",
    "avg_recall_scores_md3=[]\n",
    "avg_recall_scores_md4=[]\n",
    "\n",
    "for q in tqdm(range (100)):\n",
    "\n",
    "    recall_scores_md1=[]\n",
    "    recall_scores_md2=[]\n",
    "    recall_scores_md3=[]\n",
    "    recall_scores_md4=[]\n",
    "\n",
    "    stratified_kf = StratifiedKFold(n_splits=5, shuffle=True, random_state=42)\n",
    "\n",
    "    for train_index, test_index in stratified_kf.split(X, y):\n",
    "\n",
    "        X_train, X_test = X.iloc[train_index], X.iloc[test_index]\n",
    "        y_train, y_test = y.iloc[train_index], y.iloc[test_index]\n",
    "        y_train=y_train.to_numpy().ravel()\n",
    "\n",
    "        #################\n",
    "        # Logit Model 1 #\n",
    "        #################\n",
    "\n",
    "        logit_md_1=Pipeline([('scaler', MinMaxScaler()), ('model', LogisticRegression(solver='liblinear', penalty='l1'))])\n",
    "        logit_md_1.fit(X_train, y_train)\n",
    "\n",
    "        y_pred_1=logit_md_1.predict_proba(X_test)[:, 1]\n",
    "        y_pred_label_1=np.where(y_pred_1<0.1,0,1)\n",
    "        md_1_recall=recall_score(y_test, y_pred_label_1)\n",
    "        recall_scores_md1.append(md_1_recall)\n",
    "\n",
    "        #################\n",
    "        # Logit Model 2 #\n",
    "        #################\n",
    "\n",
    "        logit_md_2=Pipeline([('scaler', MinMaxScaler()), ('model', LogisticRegression(solver='liblinear', penalty='l2'))])\n",
    "        logit_md_2.fit(X_train, y_train)\n",
    "\n",
    "        y_pred_2=logit_md_2.predict_proba(X_test)[:, 1]\n",
    "        y_pred_label_2=np.where(y_pred_2<0.1,0,1)\n",
    "        md_2_recall=recall_score(y_test, y_pred_label_2)\n",
    "        recall_scores_md2.append(md_2_recall)\n",
    "\n",
    "        #################\n",
    "        # Logit Model 3 #\n",
    "        #################\n",
    "\n",
    "        logit_md_3=Pipeline([('scaler', MinMaxScaler()), ('model', LogisticRegression(solver='saga', penalty='l1'))])\n",
    "        logit_md_3.fit(X_train, y_train)\n",
    "\n",
    "        y_pred_3=logit_md_3.predict_proba(X_test)[:, 1]\n",
    "        y_pred_label_3=np.where(y_pred_3<0.1,0,1)\n",
    "        md_3_recall=recall_score(y_test, y_pred_label_3)\n",
    "        recall_scores_md3.append(md_3_recall)\n",
    "\n",
    "        #################\n",
    "        # Logit Model 4 #\n",
    "        #################\n",
    "\n",
    "        logit_md_4=Pipeline([('scaler', MinMaxScaler()), ('model', LogisticRegression(solver='saga', penalty='l2'))])\n",
    "        logit_md_4.fit(X_train, y_train)\n",
    "\n",
    "        y_pred_4=logit_md_4.predict_proba(X_test)[:, 1]\n",
    "        y_pred_label_4=np.where(y_pred_4<0.1,0,1)\n",
    "        md_4_recall=recall_score(y_test, y_pred_label_4)\n",
    "        recall_scores_md4.append(md_4_recall)\n",
    "\n",
    "    md_1_avg_recall=np.mean(recall_scores_md1)\n",
    "    md_2_avg_recall=np.mean(recall_scores_md2)\n",
    "    md_3_avg_recall=np.mean(recall_scores_md3)\n",
    "    md_4_avg_recall=np.mean(recall_scores_md4)\n",
    "\n",
    "    avg_recall_scores_md1.append(md_1_avg_recall)\n",
    "    avg_recall_scores_md2.append(md_2_avg_recall)\n",
    "    avg_recall_scores_md3.append(md_3_avg_recall)\n",
    "    avg_recall_scores_md4.append(md_4_avg_recall)\n",
    "\n",
    "\n",
    "plt.figure(figsize=(12, 6))\n",
    "# Plot the results for Model 1\n",
    "plt.plot(range(1, 101), avg_recall_scores_md1, label='Model 1', color='blue')\n",
    "# Plot the results for Model 2\n",
    "plt.plot(range(1, 101), avg_recall_scores_md2, label='Model 2', color='green')\n",
    "# Plot the results for Model 3\n",
    "plt.plot(range(1, 101), avg_recall_scores_md3, label='Model 3', color='orange')\n",
    "# Plot the results for Model 4\n",
    "plt.plot(range(1, 101), avg_recall_scores_md4, label='Model 4', color='red')\n",
    "plt.xlabel('Iteration')\n",
    "plt.ylabel('Recall')\n",
    "plt.title('Recall Values for Each Model at Each Iteration (100 Repetitions)')\n",
    "plt.legend()\n",
    "plt.grid(True)\n",
    "plt.show()\n",
    "\n",
    "total_avg_recall_md1=np.mean(avg_recall_scores_md1) \n",
    "total_avg_recall_md2=np.mean(avg_recall_scores_md2) \n",
    "total_avg_recall_md3=np.mean(avg_recall_scores_md3) \n",
    "total_avg_recall_md4=np.mean(avg_recall_scores_md4) \n",
    "\n",
    "print(\"Model 1 average recall is \", md_1_avg_recall)\n",
    "print(\"Model 2 average recall is \", md_2_avg_recall)\n",
    "print(\"Model 3 average recall is \", md_3_avg_recall)\n",
    "print(\"Model 4 average recall is \", md_4_avg_recall)"
   ]
  },
  {
   "cell_type": "markdown",
   "metadata": {},
   "source": [
    "Based on the results, I would use the liblinear model with the penalty of l2 (Model 2)\n",
    "\n",
    "Based on the results, I would use the saga model with the penalty of l2 (Model 4)"
   ]
  },
  {
   "cell_type": "code",
   "execution_count": 121,
   "metadata": {},
   "outputs": [
    {
     "data": {
      "text/plain": [
       "['International_plan', 'total_charge', 'Customer_service_calls', 'Churn']"
      ]
     },
     "execution_count": 121,
     "metadata": {},
     "output_type": "execute_result"
    }
   ],
   "source": [
    "telecom_train.columns.tolist()"
   ]
  },
  {
   "cell_type": "code",
   "execution_count": 136,
   "metadata": {},
   "outputs": [
    {
     "name": "stdout",
     "output_type": "stream",
     "text": [
      "The solver and liblinear model recall scores are equal, I'm not sure which model is better. Cant figure out why these two recall scores are coming out the same...\n"
     ]
    }
   ],
   "source": [
    "# g)\n",
    "\n",
    "recall_scores_liblin=[]\n",
    "\n",
    "X_train=telecom_train.drop('Churn', axis=1)\n",
    "y_train=telecom_train['Churn']\n",
    "X_test=telecom_test.drop('Churn', axis=1)\n",
    "y_test=telecom_test['Churn']\n",
    "\n",
    "########################\n",
    "# Best liblinear Model #\n",
    "########################\n",
    "\n",
    "liblin_md=Pipeline([('scaler', MinMaxScaler()), ('model', LogisticRegression(solver='liblinear', penalty='l2'))])\n",
    "liblin_md.fit(X_train, y_train)\n",
    "y_pred_liblin=liblin_md.predict_proba(X_test)[:, 1]\n",
    "y_pred_label_liblin=np.where(y_pred_liblin<0.1,0,1)\n",
    "liblin_md_recall=recall_score(y_test, y_pred_label_liblin)\n",
    "\n",
    "######################\n",
    "# Logit solver Model #\n",
    "######################\n",
    "\n",
    "solver_md=Pipeline([('scaler', MinMaxScaler()), ('model', LogisticRegression(solver='saga', penalty='l2'))])\n",
    "solver_md.fit(X_train, y_train)\n",
    "\n",
    "y_pred_solver=solver_md.predict_proba(X_test)[:, 1]\n",
    "y_pred_label_solver=np.where(y_pred_solver<0.1,0,1)\n",
    "solver_md_recall=recall_score(y_test, y_pred_label_solver)\n",
    "\n",
    "if solver_md_recall > liblin_md_recall:\n",
    "    print (\"Because the solver model recall is \", solver_md_recall, \"and the liblinear model recall is\", liblin_md_recall, \"\\nI would use the solver model to predict Churn.\")\n",
    "elif solver_md_recall == liblin_md_recall:\n",
    "    print (\"The solver and liblinear model recall scores are equal, I'm not sure which model is better. Cant figure out why these two recall scores are coming out the same...\")\n",
    "else:\n",
    "    print (\"Because the liblinear model recall is \", liblin_md_recall, \"and the solver model recall is\", solver_md_recall, \"\\nI would use the liblinear model to predict Churn.\")"
   ]
  }
 ],
 "metadata": {
  "kernelspec": {
   "display_name": "Python 3",
   "language": "python",
   "name": "python3"
  },
  "language_info": {
   "codemirror_mode": {
    "name": "ipython",
    "version": 3
   },
   "file_extension": ".py",
   "mimetype": "text/x-python",
   "name": "python",
   "nbconvert_exporter": "python",
   "pygments_lexer": "ipython3",
   "version": "3.10.1"
  },
  "orig_nbformat": 4
 },
 "nbformat": 4,
 "nbformat_minor": 2
}
