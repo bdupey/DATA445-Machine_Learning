{
 "cells": [
  {
   "cell_type": "code",
   "execution_count": 14,
   "metadata": {},
   "outputs": [
    {
     "name": "stdout",
     "output_type": "stream",
     "text": [
      "The recall of the RF model is 0.8482142857142857\n",
      "The recall of the ET model is 0.9375\n"
     ]
    }
   ],
   "source": [
    "import pandas as pd\n",
    "import numpy as np\n",
    "\n",
    "from sklearn.ensemble import RandomForestClassifier, ExtraTreesClassifier\n",
    "from sklearn.metrics import recall_score\n",
    "from sklearn.model_selection import train_test_split\n",
    "\n",
    "heart=pd.read_csv('framingham.csv')\n",
    "heart.dropna(inplace=True)\n",
    "\n",
    "# RF Model\n",
    "X=heart[['age','currentSmoker','totChol','BMI','heartRate']]\n",
    "y=heart['TenYearCHD']\n",
    "X_train, X_test, y_train, y_test=train_test_split(X,y, test_size=0.2, stratify=y)\n",
    "RF_md=RandomForestClassifier(n_estimators=500,\n",
    "                             max_depth=5).fit(X_train, y_train)\n",
    "RF_pred=RF_md.predict_proba(X_test)[:, 1]\n",
    "RF_label=np.where(RF_pred<0.1, 0, 1)\n",
    "print(f\"The recall of the RF model is {recall_score(y_test, RF_label)}\")\n",
    "# Extra Trees\n",
    "ET_md=ExtraTreesClassifier(n_estimators=500,\n",
    "                             max_depth=5).fit(X_train, y_train)\n",
    "ET_pred=ET_md.predict_proba(X_test)[:, 1]\n",
    "ET_label=np.where(ET_pred<0.1, 0, 1)\n",
    "print(f\"The recall of the ET model is {recall_score(y_test, ET_label)}\")\n",
    "# From the above results we can see that the ET model performs better. "
   ]
  }
 ],
 "metadata": {
  "kernelspec": {
   "display_name": "Python 3",
   "language": "python",
   "name": "python3"
  },
  "language_info": {
   "codemirror_mode": {
    "name": "ipython",
    "version": 3
   },
   "file_extension": ".py",
   "mimetype": "text/x-python",
   "name": "python",
   "nbconvert_exporter": "python",
   "pygments_lexer": "ipython3",
   "version": "3.11.4"
  },
  "orig_nbformat": 4
 },
 "nbformat": 4,
 "nbformat_minor": 2
}
