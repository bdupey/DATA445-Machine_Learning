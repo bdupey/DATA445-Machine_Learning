{
 "cells": [
  {
   "cell_type": "code",
   "execution_count": 15,
   "metadata": {},
   "outputs": [
    {
     "name": "stdout",
     "output_type": "stream",
     "text": [
      "The recall of the AdaBoost model is 1.0\n",
      "The recall of the Random Forest model is 0.8928571428571429\n",
      "The recall of the Extra Trees model is 1.0\n"
     ]
    }
   ],
   "source": [
    "import pandas as pd\n",
    "import numpy as np\n",
    "from tqdm.notebook import tqdm\n",
    "from sklearn.model_selection import train_test_split\n",
    "from sklearn.tree import DecisionTreeClassifier\n",
    "from sklearn.ensemble import RandomForestClassifier, ExtraTreesClassifier, AdaBoostClassifier\n",
    "from sklearn.metrics import recall_score\n",
    "heart=pd.read_csv('framingham.csv')\n",
    "heart.dropna(inplace=True)\n",
    "X=heart[['age','currentSmoker','totChol','BMI','heartRate']]\n",
    "y=heart['TenYearCHD']\n",
    "X_train, X_test, y_train, y_test=train_test_split(X,y,test_size=.2,stratify=y)\n",
    "#AdaBoost\n",
    "ada_md=AdaBoostClassifier(estimator=DecisionTreeClassifier(max_depth=3),\n",
    "                          n_estimators=500,\n",
    "                          learning_rate=0.01).fit(X_train, y_train)\n",
    "ada_pred=ada_md.predict_proba(X_test)[:,1]\n",
    "ada_label=np.where(ada_pred<0.1,0,1)\n",
    "print(f\"The recall of the AdaBoost model is {recall_score(y_test, ada_label)}\")\n",
    "#RandomForest\n",
    "rf_md=RandomForestClassifier(n_estimators=500,\n",
    "                             max_depth=3).fit(X_train,y_train)\n",
    "rf_pred=rf_md.predict_proba(X_test)[:,1]\n",
    "rf_label=np.where(rf_pred<0.1,0,1)\n",
    "print(f\"The recall of the Random Forest model is {recall_score(y_test, rf_label)}\")\n",
    "#ExtraTrees\n",
    "et_md=ExtraTreesClassifier(n_estimators=500,\n",
    "                             max_depth=3).fit(X_train,y_train)\n",
    "et_pred=et_md.predict_proba(X_test)[:,1]\n",
    "et_label=np.where(et_pred<0.1,0,1)\n",
    "print(f\"The recall of the Extra Trees model is {recall_score(y_test, et_label)}\")"
   ]
  },
  {
   "cell_type": "code",
   "execution_count": null,
   "metadata": {},
   "outputs": [],
   "source": [
    "#The recall of the AdaBoost model is 1.0\n",
    "#The recall of the Random Forest model is 0.8928571428571429\n",
    "#The recall of the Extra Trees model is 1.0\n",
    "#...\n",
    "#Based on the results, AdaBoost and Extra trees are running at the same/best level of accuracy."
   ]
  }
 ],
 "metadata": {
  "kernelspec": {
   "display_name": "Python 3",
   "language": "python",
   "name": "python3"
  },
  "language_info": {
   "codemirror_mode": {
    "name": "ipython",
    "version": 3
   },
   "file_extension": ".py",
   "mimetype": "text/x-python",
   "name": "python",
   "nbconvert_exporter": "python",
   "pygments_lexer": "ipython3",
   "version": "3.11.4"
  },
  "orig_nbformat": 4
 },
 "nbformat": 4,
 "nbformat_minor": 2
}
