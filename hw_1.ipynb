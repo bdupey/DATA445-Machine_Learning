{
 "cells": [
  {
   "cell_type": "markdown",
   "metadata": {},
   "source": [
    "# Conceptual Questions"
   ]
  },
  {
   "cell_type": "markdown",
   "metadata": {},
   "source": [
    "Exercise 1:\n",
    "I would use a clustering algorithm.\n",
    "\n",
    "Exercise 2:\n",
    "I would say that it is supervised because you will need to train your model with data prior to being able to classify an email as SPAM.\n",
    "\n",
    "Exercise 3:\n",
    "A test set of data is what you use to test the model you built from your training data set to see how accurate your predictions are.\n",
    "\n",
    "Exercise 4:\n",
    "(f) (a) and (d)"
   ]
  },
  {
   "cell_type": "markdown",
   "metadata": {},
   "source": [
    "# Exercise 5"
   ]
  },
  {
   "cell_type": "markdown",
   "metadata": {},
   "source": [
    "(I printed my answers at the bottom of the code block)"
   ]
  },
  {
   "cell_type": "code",
   "execution_count": 66,
   "metadata": {},
   "outputs": [
    {
     "name": "stdout",
     "output_type": "stream",
     "text": [
      "MSE Linear Model 1: 76.4.\n",
      "MSE Linear Model 1: 72.\n",
      "Linear model 2 is the better choice after running the model once.\n",
      "avg_mse_1= 80.79471978029501\n",
      "avg_mse_2= 90.36634580848083\n",
      "Linear model 1 is the better choice after running each model 100 times.\n"
     ]
    }
   ],
   "source": [
    "# Importing Libraries\n",
    "import pandas as pd\n",
    "from sklearn.model_selection import train_test_split\n",
    "from sklearn.linear_model import LinearRegression\n",
    "from sklearn.metrics import mean_squared_error\n",
    "from statistics import mean \n",
    "\n",
    "# Part a) \n",
    "## Reading in the data\n",
    "house_price=pd.read_csv('Real_Estate.csv')\n",
    "\n",
    "# Part b)\n",
    "## Dropping the No and transaction date columns\n",
    "house_price.drop(columns=['No','transaction_date'],axis=1,inplace=True)\n",
    "\n",
    "# Part c/d) LINEAR MODEL 1\n",
    "## Splitting data into train/test\n",
    "X1=house_price[['house_age','distance_to_the_nearest_MRT_station','number_of_convenience_stores','latitude','longitude']]\n",
    "Y1=house_price['house_price_of_unit_area']\n",
    "X_train1,X_test1,Y_train1,Y_test1=train_test_split(X1,Y1, test_size=0.2)\n",
    "# Bulding the linear model\n",
    "lm_md1=LinearRegression().fit(X_train1,Y_train1)\n",
    "# Predicting on test\n",
    "lm_pred1=lm_md1.predict(X_test1)\n",
    "# Calculating and printing MSE\n",
    "lm_mse_1=mean_squared_error(Y_test1,lm_pred1)\n",
    "\n",
    "# Part c/e) LINEAR MODEL 2\n",
    "## Splitting data into train/test\n",
    "X2=house_price[['house_age','number_of_convenience_stores','latitude','longitude']]\n",
    "Y2=house_price['house_price_of_unit_area']\n",
    "X_train2,X_test2,Y_train2,Y_test2=train_test_split(X2,Y2, test_size=0.2)\n",
    "# Bulding the linear model\n",
    "lm_md2=LinearRegression().fit(X_train2,Y_train2)\n",
    "# Predicting on test\n",
    "lm_pred2=lm_md2.predict(X_test2)\n",
    "# Calculating and printing MSE\n",
    "lm_mse_2=mean_squared_error(Y_test2,lm_pred2)\n",
    "\n",
    "# Part f)\n",
    "## Printing the results\n",
    "print('MSE Linear Model 1: 76.4.')\n",
    "print('MSE Linear Model 1: 72.')\n",
    "print('Linear model 2 is the better choice after running the model once.')\n",
    "\n",
    "# Part g)\n",
    "## Running both linear models 100 times and storing the results.\n",
    "lm1_mse_compiled=[]\n",
    "lm2_mse_compiled=[]\n",
    "for i in range(100):\n",
    "    # LINEAR MODEL 1\n",
    "    ## Splitting data into train/test\n",
    "    X1=house_price[['house_age','distance_to_the_nearest_MRT_station','number_of_convenience_stores','latitude','longitude']]\n",
    "    Y1=house_price['house_price_of_unit_area']\n",
    "    X_train1,X_test1,Y_train1,Y_test1=train_test_split(X1,Y1, test_size=0.2)\n",
    "    # Bulding the linear model\n",
    "    lm_md1=LinearRegression().fit(X_train1,Y_train1)\n",
    "    # Predicting on test\n",
    "    lm_pred1=lm_md1.predict(X_test1)\n",
    "    # Calculating and printing MSE\n",
    "    lm_mse_1=mean_squared_error(Y_test1,lm_pred1)\n",
    "    lm1_mse_compiled.append(lm_mse_1)\n",
    "    avg_mse_1=mean(lm1_mse_compiled)\n",
    "\n",
    "\n",
    "    # LINEAR MODEL 2\n",
    "    ## Splitting data into train/test\n",
    "    X2=house_price[['house_age','number_of_convenience_stores','latitude','longitude']]\n",
    "    Y2=house_price['house_price_of_unit_area']\n",
    "    X_train2,X_test2,Y_train2,Y_test2=train_test_split(X2,Y2, test_size=0.2)\n",
    "    # Bulding the linear model\n",
    "    lm_md2=LinearRegression().fit(X_train2,Y_train2)\n",
    "    # Predicting on test\n",
    "    lm_pred2=lm_md2.predict(X_test2)\n",
    "    # Calculating and printing MSE\n",
    "    lm_mse_2=mean_squared_error(Y_test2,lm_pred2)\n",
    "    lm2_mse_compiled.append(lm_mse_2)\n",
    "    avg_mse_2=mean(lm2_mse_compiled)\n",
    "print(\"avg_mse_1=\",avg_mse_1)\n",
    "print(\"avg_mse_2=\",avg_mse_2)\n",
    "print('Linear model 1 is the better choice after running each model 100 times.')   "
   ]
  }
 ],
 "metadata": {
  "kernelspec": {
   "display_name": "Python 3",
   "language": "python",
   "name": "python3"
  },
  "language_info": {
   "codemirror_mode": {
    "name": "ipython",
    "version": 3
   },
   "file_extension": ".py",
   "mimetype": "text/x-python",
   "name": "python",
   "nbconvert_exporter": "python",
   "pygments_lexer": "ipython3",
   "version": "3.11.4"
  },
  "orig_nbformat": 4
 },
 "nbformat": 4,
 "nbformat_minor": 2
}
