{
 "cells": [
  {
   "cell_type": "code",
   "execution_count": 1,
   "metadata": {},
   "outputs": [],
   "source": [
    "import pandas as pd\n",
    "import numpy as np\n",
    "\n",
    "from tqdm.notebook import tqdm\n",
    "\n",
    "from sklearn.model_selection import train_test_split\n",
    "from sklearn.ensemble import RandomForestClassifier, ExtraTreesClassifier\n",
    "from sklearn.metrics import recall_score"
   ]
  },
  {
   "cell_type": "code",
   "execution_count": 2,
   "metadata": {},
   "outputs": [
    {
     "data": {
      "application/vnd.jupyter.widget-view+json": {
       "model_id": "8be68e62a5a349158f6d633428c28253",
       "version_major": 2,
       "version_minor": 0
      },
      "text/plain": [
       "  0%|          | 0/100 [00:00<?, ?it/s]"
      ]
     },
     "metadata": {},
     "output_type": "display_data"
    },
    {
     "data": {
      "text/plain": [
       "sysBP              0.186252\n",
       "age                0.184066\n",
       "diaBP              0.120829\n",
       "glucose            0.102826\n",
       "BMI                0.082528\n",
       "totChol            0.081342\n",
       "prevalentHyp       0.057079\n",
       "heartRate          0.047583\n",
       "cigsPerDay         0.043041\n",
       "male               0.029710\n",
       "education          0.024558\n",
       "BPMeds             0.012338\n",
       "diabetes           0.011318\n",
       "currentSmoker      0.008803\n",
       "prevalentStroke    0.007728\n",
       "dtype: float64"
      ]
     },
     "execution_count": 2,
     "metadata": {},
     "output_type": "execute_result"
    }
   ],
   "source": [
    "heart=pd.read_csv('framingham.csv')\n",
    "heart.dropna(inplace=True)\n",
    "X=heart.drop('TenYearCHD', axis=1)\n",
    "y=heart['TenYearCHD']\n",
    "X_train, X_test, y_train, y_test=train_test_split(X,y,test_size=.2,stratify=y)\n",
    "#################\n",
    "# Random Forest #\n",
    "#################\n",
    "rf_imp=[]\n",
    "for i in tqdm(range(0,100)):\n",
    "    X_train_1, X_val, y_train_1, y_val=train_test_split(X_train,y_train,test_size=.2,stratify=y_train)\n",
    "    rf_md=RandomForestClassifier(n_estimators=500, \n",
    "                                 max_depth=5).fit(X_train_1, y_train_1)\n",
    "    rf_imp.append(rf_md.feature_importances_)\n",
    "rf_imp=pd.DataFrame(rf_imp, columns=X.columns.tolist())\n",
    "rf_imp=rf_imp.apply(np.mean,axis=0).sort_values(ascending=False)\n",
    "rf_imp"
   ]
  },
  {
   "cell_type": "code",
   "execution_count": 5,
   "metadata": {},
   "outputs": [
    {
     "name": "stdout",
     "output_type": "stream",
     "text": [
      "The recall score of the rf model is 0.8571428571428571\n"
     ]
    }
   ],
   "source": [
    "to_select=['sysBP', 'age', 'diaBP', 'glucose', 'BMI']\n",
    "rf_md=rf_md=RandomForestClassifier(n_estimators=500, \n",
    "                                 max_depth=5).fit(X_train[to_select], y_train)\n",
    "rf_pred=rf_md.predict_proba(X_test[to_select])[:,1]\n",
    "rf_label=np.where(rf_pred<0.1, 0, 1)\n",
    "print(f\"The recall score of the rf model is {recall_score(y_test, rf_label)}\")"
   ]
  },
  {
   "cell_type": "code",
   "execution_count": 8,
   "metadata": {},
   "outputs": [
    {
     "name": "stdout",
     "output_type": "stream",
     "text": [
      "Enabling notebook extension jupyter-js-widgets/extension...\n",
      "      - Validating: \u001b[32mOK\u001b[0m\n"
     ]
    }
   ],
   "source": [
    "!jupyter nbextension enable --py widgetsnbextension\n"
   ]
  },
  {
   "cell_type": "code",
   "execution_count": 9,
   "metadata": {},
   "outputs": [
    {
     "ename": "ImportError",
     "evalue": "IProgress not found. Please update jupyter and ipywidgets. See https://ipywidgets.readthedocs.io/en/stable/user_install.html",
     "output_type": "error",
     "traceback": [
      "\u001b[0;31m---------------------------------------------------------------------------\u001b[0m",
      "\u001b[0;31mImportError\u001b[0m                               Traceback (most recent call last)",
      "Cell \u001b[0;32mIn[9], line 5\u001b[0m\n\u001b[1;32m      1\u001b[0m \u001b[39m#################\u001b[39;00m\n\u001b[1;32m      2\u001b[0m \u001b[39m# Extra Trees #\u001b[39;00m\n\u001b[1;32m      3\u001b[0m \u001b[39m#################\u001b[39;00m\n\u001b[1;32m      4\u001b[0m et_imp\u001b[39m=\u001b[39m[]\n\u001b[0;32m----> 5\u001b[0m \u001b[39mfor\u001b[39;00m i \u001b[39min\u001b[39;00m tqdm(\u001b[39mrange\u001b[39;49m(\u001b[39m0\u001b[39;49m,\u001b[39m100\u001b[39;49m)):\n\u001b[1;32m      6\u001b[0m     X_train_1, X_val, y_train_1, y_val\u001b[39m=\u001b[39mtrain_test_split(X_train,y_train,test_size\u001b[39m=\u001b[39m\u001b[39m.2\u001b[39m,stratify\u001b[39m=\u001b[39my_train)\n\u001b[1;32m      7\u001b[0m     et_md\u001b[39m=\u001b[39mExtraTreesClassifier(n_estimators\u001b[39m=\u001b[39m\u001b[39m500\u001b[39m, \n\u001b[1;32m      8\u001b[0m                                  max_depth\u001b[39m=\u001b[39m\u001b[39m5\u001b[39m)\u001b[39m.\u001b[39mfit(X_train_1, y_train_1)\n",
      "File \u001b[0;32m/Library/Frameworks/Python.framework/Versions/3.11/lib/python3.11/site-packages/tqdm/notebook.py:233\u001b[0m, in \u001b[0;36mtqdm_notebook.__init__\u001b[0;34m(self, *args, **kwargs)\u001b[0m\n\u001b[1;32m    231\u001b[0m unit_scale \u001b[39m=\u001b[39m \u001b[39m1\u001b[39m \u001b[39mif\u001b[39;00m \u001b[39mself\u001b[39m\u001b[39m.\u001b[39munit_scale \u001b[39mis\u001b[39;00m \u001b[39mTrue\u001b[39;00m \u001b[39melse\u001b[39;00m \u001b[39mself\u001b[39m\u001b[39m.\u001b[39munit_scale \u001b[39mor\u001b[39;00m \u001b[39m1\u001b[39m\n\u001b[1;32m    232\u001b[0m total \u001b[39m=\u001b[39m \u001b[39mself\u001b[39m\u001b[39m.\u001b[39mtotal \u001b[39m*\u001b[39m unit_scale \u001b[39mif\u001b[39;00m \u001b[39mself\u001b[39m\u001b[39m.\u001b[39mtotal \u001b[39melse\u001b[39;00m \u001b[39mself\u001b[39m\u001b[39m.\u001b[39mtotal\n\u001b[0;32m--> 233\u001b[0m \u001b[39mself\u001b[39m\u001b[39m.\u001b[39mcontainer \u001b[39m=\u001b[39m \u001b[39mself\u001b[39;49m\u001b[39m.\u001b[39;49mstatus_printer(\u001b[39mself\u001b[39;49m\u001b[39m.\u001b[39;49mfp, total, \u001b[39mself\u001b[39;49m\u001b[39m.\u001b[39;49mdesc, \u001b[39mself\u001b[39;49m\u001b[39m.\u001b[39;49mncols)\n\u001b[1;32m    234\u001b[0m \u001b[39mself\u001b[39m\u001b[39m.\u001b[39mcontainer\u001b[39m.\u001b[39mpbar \u001b[39m=\u001b[39m proxy(\u001b[39mself\u001b[39m)\n\u001b[1;32m    235\u001b[0m \u001b[39mself\u001b[39m\u001b[39m.\u001b[39mdisplayed \u001b[39m=\u001b[39m \u001b[39mFalse\u001b[39;00m\n",
      "File \u001b[0;32m/Library/Frameworks/Python.framework/Versions/3.11/lib/python3.11/site-packages/tqdm/notebook.py:108\u001b[0m, in \u001b[0;36mtqdm_notebook.status_printer\u001b[0;34m(_, total, desc, ncols)\u001b[0m\n\u001b[1;32m     99\u001b[0m \u001b[39m# Fallback to text bar if there's no total\u001b[39;00m\n\u001b[1;32m    100\u001b[0m \u001b[39m# DEPRECATED: replaced with an 'info' style bar\u001b[39;00m\n\u001b[1;32m    101\u001b[0m \u001b[39m# if not total:\u001b[39;00m\n\u001b[0;32m   (...)\u001b[0m\n\u001b[1;32m    105\u001b[0m \n\u001b[1;32m    106\u001b[0m \u001b[39m# Prepare IPython progress bar\u001b[39;00m\n\u001b[1;32m    107\u001b[0m \u001b[39mif\u001b[39;00m IProgress \u001b[39mis\u001b[39;00m \u001b[39mNone\u001b[39;00m:  \u001b[39m# #187 #451 #558 #872\u001b[39;00m\n\u001b[0;32m--> 108\u001b[0m     \u001b[39mraise\u001b[39;00m \u001b[39mImportError\u001b[39;00m(WARN_NOIPYW)\n\u001b[1;32m    109\u001b[0m \u001b[39mif\u001b[39;00m total:\n\u001b[1;32m    110\u001b[0m     pbar \u001b[39m=\u001b[39m IProgress(\u001b[39mmin\u001b[39m\u001b[39m=\u001b[39m\u001b[39m0\u001b[39m, \u001b[39mmax\u001b[39m\u001b[39m=\u001b[39mtotal)\n",
      "\u001b[0;31mImportError\u001b[0m: IProgress not found. Please update jupyter and ipywidgets. See https://ipywidgets.readthedocs.io/en/stable/user_install.html"
     ]
    }
   ],
   "source": [
    "#################\n",
    "# Extra Trees #\n",
    "#################\n",
    "et_imp=[]\n",
    "for i in tqdm(range(0,100)):\n",
    "    X_train_1, X_val, y_train_1, y_val=train_test_split(X_train,y_train,test_size=.2,stratify=y_train)\n",
    "    et_md=ExtraTreesClassifier(n_estimators=500, \n",
    "                                 max_depth=5).fit(X_train_1, y_train_1)\n",
    "    et_imp.append(rf_md.feature_importances_)\n",
    "et_imp=pd.DataFrame(et_imp, columns=X.columns.tolist())\n",
    "et_imp=et_imp.apply(np.mean,axis=0).sort_values(ascending=False)\n",
    "et_imp"
   ]
  },
  {
   "cell_type": "code",
   "execution_count": 10,
   "metadata": {},
   "outputs": [
    {
     "name": "stdout",
     "output_type": "stream",
     "text": [
      "The recall score of the rf model is 0.8660714285714286\n"
     ]
    }
   ],
   "source": [
    "to_select=['prevalentHyp','age','sysBP','glucose']\n",
    "et_md=et_md=ExtraTreesClassifier(n_estimators=500, \n",
    "                                 max_depth=5).fit(X_train[to_select], y_train)\n",
    "et_pred=et_md.predict_proba(X_test[to_select])[:,1]\n",
    "et_label=np.where(et_pred<0.1, 0, 1)\n",
    "print(f\"The recall score of the rf model is {recall_score(y_test, et_label)}\")"
   ]
  },
  {
   "cell_type": "code",
   "execution_count": 11,
   "metadata": {},
   "outputs": [],
   "source": [
    "# From the above results, I would use Extra Trees to predict TenYearCHD."
   ]
  }
 ],
 "metadata": {
  "kernelspec": {
   "display_name": "Python 3",
   "language": "python",
   "name": "python3"
  },
  "language_info": {
   "codemirror_mode": {
    "name": "ipython",
    "version": 3
   },
   "file_extension": ".py",
   "mimetype": "text/x-python",
   "name": "python",
   "nbconvert_exporter": "python",
   "pygments_lexer": "ipython3",
   "version": "3.11.4"
  },
  "orig_nbformat": 4
 },
 "nbformat": 4,
 "nbformat_minor": 2
}
