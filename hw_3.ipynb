{
 "cells": [
  {
   "cell_type": "markdown",
   "metadata": {},
   "source": [
    "Theoretical Questions\n",
    "\n",
    "Exercise 1:\n",
    "⊛ OLS is prone to overfitting in high-dimensional datasets. Also, high dimension datasets exhibit multicolinearity. \n",
    "⊛ Using regularization methods like ridge regression would be better. This is because adding regularization terms can help prevent overfitting by discouraging large coefficients. \n",
    "\n",
    "Exercise 2:\n",
    "(c) The objective function is the same as ordinary least squares objective function.\n",
    "\n",
    "Exercise 3: \n",
    "(i) (b) and (c)\n",
    "\n",
    "Exercise 4:\n",
    "High Bias. Reduce regularization parameter.\n"
   ]
  },
  {
   "cell_type": "markdown",
   "metadata": {},
   "source": [
    "# Coding Question"
   ]
  },
  {
   "cell_type": "code",
   "execution_count": 32,
   "metadata": {},
   "outputs": [
    {
     "name": "stderr",
     "output_type": "stream",
     "text": [
      "  0%|          | 0/1000 [00:00<?, ?it/s]"
     ]
    },
    {
     "name": "stderr",
     "output_type": "stream",
     "text": [
      "100%|██████████| 1000/1000 [01:20<00:00, 12.47it/s]\n"
     ]
    },
    {
     "data": {
      "text/html": [
       "<div>\n",
       "<style scoped>\n",
       "    .dataframe tbody tr th:only-of-type {\n",
       "        vertical-align: middle;\n",
       "    }\n",
       "\n",
       "    .dataframe tbody tr th {\n",
       "        vertical-align: top;\n",
       "    }\n",
       "\n",
       "    .dataframe thead th {\n",
       "        text-align: right;\n",
       "    }\n",
       "</style>\n",
       "<table border=\"1\" class=\"dataframe\">\n",
       "  <thead>\n",
       "    <tr style=\"text-align: right;\">\n",
       "      <th></th>\n",
       "      <th>wheelbase</th>\n",
       "      <th>enginesize</th>\n",
       "      <th>compressionratio</th>\n",
       "      <th>horsepower</th>\n",
       "      <th>peakrpm</th>\n",
       "      <th>citympg</th>\n",
       "      <th>highwaympg</th>\n",
       "    </tr>\n",
       "  </thead>\n",
       "  <tbody>\n",
       "    <tr>\n",
       "      <th>0</th>\n",
       "      <td>871.127823</td>\n",
       "      <td>4083.415887</td>\n",
       "      <td>1419.873744</td>\n",
       "      <td>1938.712928</td>\n",
       "      <td>878.285879</td>\n",
       "      <td>-977.016240</td>\n",
       "      <td>-0.0</td>\n",
       "    </tr>\n",
       "    <tr>\n",
       "      <th>1</th>\n",
       "      <td>876.472967</td>\n",
       "      <td>4116.003950</td>\n",
       "      <td>1459.438358</td>\n",
       "      <td>1909.822159</td>\n",
       "      <td>924.791599</td>\n",
       "      <td>-1002.141233</td>\n",
       "      <td>-0.0</td>\n",
       "    </tr>\n",
       "    <tr>\n",
       "      <th>2</th>\n",
       "      <td>880.634502</td>\n",
       "      <td>4148.938129</td>\n",
       "      <td>1496.141084</td>\n",
       "      <td>1880.538457</td>\n",
       "      <td>968.546118</td>\n",
       "      <td>-1025.868121</td>\n",
       "      <td>0.0</td>\n",
       "    </tr>\n",
       "    <tr>\n",
       "      <th>3</th>\n",
       "      <td>874.627688</td>\n",
       "      <td>4104.096602</td>\n",
       "      <td>1445.216746</td>\n",
       "      <td>1920.472712</td>\n",
       "      <td>908.048675</td>\n",
       "      <td>-993.011160</td>\n",
       "      <td>-0.0</td>\n",
       "    </tr>\n",
       "    <tr>\n",
       "      <th>4</th>\n",
       "      <td>876.472967</td>\n",
       "      <td>4116.003950</td>\n",
       "      <td>1459.438358</td>\n",
       "      <td>1909.822159</td>\n",
       "      <td>924.791599</td>\n",
       "      <td>-1002.141233</td>\n",
       "      <td>-0.0</td>\n",
       "    </tr>\n",
       "  </tbody>\n",
       "</table>\n",
       "</div>"
      ],
      "text/plain": [
       "    wheelbase   enginesize  compressionratio   horsepower     peakrpm  \\\n",
       "0  871.127823  4083.415887       1419.873744  1938.712928  878.285879   \n",
       "1  876.472967  4116.003950       1459.438358  1909.822159  924.791599   \n",
       "2  880.634502  4148.938129       1496.141084  1880.538457  968.546118   \n",
       "3  874.627688  4104.096602       1445.216746  1920.472712  908.048675   \n",
       "4  876.472967  4116.003950       1459.438358  1909.822159  924.791599   \n",
       "\n",
       "       citympg  highwaympg  \n",
       "0  -977.016240        -0.0  \n",
       "1 -1002.141233        -0.0  \n",
       "2 -1025.868121         0.0  \n",
       "3  -993.011160        -0.0  \n",
       "4 -1002.141233        -0.0  "
      ]
     },
     "execution_count": 32,
     "metadata": {},
     "output_type": "execute_result"
    }
   ],
   "source": [
    "import pandas as pd\n",
    "import numpy as np\n",
    "from tqdm import tqdm_notebook,tqdm\n",
    "\n",
    "from sklearn.pipeline import make_pipeline, Pipeline\n",
    "from sklearn.model_selection import KFold, train_test_split\n",
    "from sklearn.preprocessing import StandardScaler\n",
    "from sklearn.model_selection import train_test_split\n",
    "from sklearn.linear_model import LinearRegression, Lasso, LassoCV, Ridge, RidgeCV\n",
    "from sklearn.metrics import mean_squared_error\n",
    "\n",
    "\n",
    "# Exercise 5\n",
    "car_price=pd.read_csv('CarPrice_Assignment.csv')\n",
    "X=car_price[['wheelbase', 'enginesize', 'compressionratio', 'horsepower',\n",
    " 'peakrpm', 'citympg', 'highwaympg']]\n",
    "y=car_price['price']\n",
    "X_train,X_test,y_train,y_test=train_test_split(X,y, test_size=0.2)\n",
    "lasso_coef=[]\n",
    "for i in tqdm(range(0,1000)):\n",
    "    kf=KFold(n_splits=5, shuffle=True, random_state=i)\n",
    "    lasso_cv=Pipeline([('scaler', StandardScaler()),\n",
    "                       ('model', LassoCV(cv=kf.split(X_train)))]).fit(X_train, y_train)\n",
    "    lasso_lambda=lasso_cv.named_steps['model'].alpha_\n",
    "    lasso_md=Pipeline([('scaler', StandardScaler()),\n",
    "                       ('model', Lasso(alpha=lasso_lambda))]).fit(X_train, y_train)\n",
    "    lasso_coef.append(lasso_md.named_steps['model'].coef_)\n",
    "lasso_coef=pd.DataFrame(lasso_coef)\n",
    "lasso_coef.columns=X.columns.tolist()\n",
    "lasso_coef.head()"
   ]
  },
  {
   "cell_type": "code",
   "execution_count": 33,
   "metadata": {},
   "outputs": [
    {
     "data": {
      "text/plain": [
       "wheelbase             0\n",
       "enginesize            0\n",
       "compressionratio      0\n",
       "horsepower            0\n",
       "peakrpm               0\n",
       "citympg               0\n",
       "highwaympg          907\n",
       "dtype: int64"
      ]
     },
     "execution_count": 33,
     "metadata": {},
     "output_type": "execute_result"
    }
   ],
   "source": [
    "(lasso_coef==0).sum(axis=0)"
   ]
  },
  {
   "cell_type": "code",
   "execution_count": 34,
   "metadata": {},
   "outputs": [
    {
     "name": "stdout",
     "output_type": "stream",
     "text": [
      "The linear model mse is 13316485.749820003\n"
     ]
    }
   ],
   "source": [
    "X_train=X_train.drop(columns='highwaympg',axis=1)\n",
    "X_test=X_test.drop(columns='highwaympg',axis=1)\n",
    "\n",
    "lm_md = make_pipeline(StandardScaler(), LinearRegression()).fit(X_train,y_train)\n",
    "lm_pred=lm_md.predict(X_test)\n",
    "lm_mse=mean_squared_error(y_test, lm_pred)\n",
    "print('The linear model mse is', lm_mse)"
   ]
  },
  {
   "cell_type": "code",
   "execution_count": 35,
   "metadata": {},
   "outputs": [
    {
     "data": {
      "text/html": [
       "<div>\n",
       "<style scoped>\n",
       "    .dataframe tbody tr th:only-of-type {\n",
       "        vertical-align: middle;\n",
       "    }\n",
       "\n",
       "    .dataframe tbody tr th {\n",
       "        vertical-align: top;\n",
       "    }\n",
       "\n",
       "    .dataframe thead th {\n",
       "        text-align: right;\n",
       "    }\n",
       "</style>\n",
       "<table border=\"1\" class=\"dataframe\">\n",
       "  <thead>\n",
       "    <tr style=\"text-align: right;\">\n",
       "      <th></th>\n",
       "      <th>wheelbase</th>\n",
       "      <th>enginesize</th>\n",
       "      <th>compressionratio</th>\n",
       "      <th>horsepower</th>\n",
       "      <th>peakrpm</th>\n",
       "      <th>citympg</th>\n",
       "    </tr>\n",
       "  </thead>\n",
       "  <tbody>\n",
       "    <tr>\n",
       "      <th>198</th>\n",
       "      <td>104.3</td>\n",
       "      <td>130</td>\n",
       "      <td>7.5</td>\n",
       "      <td>162</td>\n",
       "      <td>5100</td>\n",
       "      <td>17</td>\n",
       "    </tr>\n",
       "    <tr>\n",
       "      <th>106</th>\n",
       "      <td>99.2</td>\n",
       "      <td>181</td>\n",
       "      <td>9.0</td>\n",
       "      <td>160</td>\n",
       "      <td>5200</td>\n",
       "      <td>19</td>\n",
       "    </tr>\n",
       "    <tr>\n",
       "      <th>199</th>\n",
       "      <td>104.3</td>\n",
       "      <td>130</td>\n",
       "      <td>7.5</td>\n",
       "      <td>162</td>\n",
       "      <td>5100</td>\n",
       "      <td>17</td>\n",
       "    </tr>\n",
       "    <tr>\n",
       "      <th>124</th>\n",
       "      <td>95.9</td>\n",
       "      <td>156</td>\n",
       "      <td>7.0</td>\n",
       "      <td>145</td>\n",
       "      <td>5000</td>\n",
       "      <td>19</td>\n",
       "    </tr>\n",
       "    <tr>\n",
       "      <th>26</th>\n",
       "      <td>93.7</td>\n",
       "      <td>90</td>\n",
       "      <td>9.4</td>\n",
       "      <td>68</td>\n",
       "      <td>5500</td>\n",
       "      <td>31</td>\n",
       "    </tr>\n",
       "  </tbody>\n",
       "</table>\n",
       "</div>"
      ],
      "text/plain": [
       "     wheelbase  enginesize  compressionratio  horsepower  peakrpm  citympg\n",
       "198      104.3         130               7.5         162     5100       17\n",
       "106       99.2         181               9.0         160     5200       19\n",
       "199      104.3         130               7.5         162     5100       17\n",
       "124       95.9         156               7.0         145     5000       19\n",
       "26        93.7          90               9.4          68     5500       31"
      ]
     },
     "execution_count": 35,
     "metadata": {},
     "output_type": "execute_result"
    }
   ],
   "source": [
    "X_test.head()"
   ]
  },
  {
   "cell_type": "code",
   "execution_count": 36,
   "metadata": {},
   "outputs": [
    {
     "data": {
      "text/plain": [
       "198    18420.0\n",
       "106    18399.0\n",
       "199    18950.0\n",
       "124    12764.0\n",
       "26      7609.0\n",
       "Name: price, dtype: float64"
      ]
     },
     "execution_count": 36,
     "metadata": {},
     "output_type": "execute_result"
    }
   ],
   "source": [
    "y_test.head()"
   ]
  },
  {
   "cell_type": "code",
   "execution_count": 37,
   "metadata": {},
   "outputs": [
    {
     "name": "stderr",
     "output_type": "stream",
     "text": [
      "  0%|          | 0/100 [00:00<?, ?it/s]"
     ]
    },
    {
     "name": "stderr",
     "output_type": "stream",
     "text": [
      "100%|██████████| 100/100 [00:06<00:00, 16.31it/s]\n"
     ]
    }
   ],
   "source": [
    "ridge_lambda=list()\n",
    "\n",
    "for i in tqdm(range(0,100)):\n",
    "    kf=KFold(n_splits=5, shuffle=True, random_state=i)\n",
    "    ridge_cv=Pipeline([('scaler', StandardScaler()),\n",
    "                       ('model', RidgeCV(alphas=[0.001, 0.01, 0.1, 1, 10, 100],\n",
    "                                        cv=kf.split(X_train)))]).fit(X_train, y_train)\n",
    "    ridge_lambda.append(ridge_cv.named_steps['model'].alpha_)"
   ]
  },
  {
   "cell_type": "code",
   "execution_count": 38,
   "metadata": {},
   "outputs": [
    {
     "data": {
      "text/plain": [
       "10.0    85\n",
       "1.0     14\n",
       "0.1      1\n",
       "Name: count, dtype: int64"
      ]
     },
     "execution_count": 38,
     "metadata": {},
     "output_type": "execute_result"
    }
   ],
   "source": [
    "pd.DataFrame(ridge_lambda).value_counts()"
   ]
  },
  {
   "cell_type": "code",
   "execution_count": 41,
   "metadata": {},
   "outputs": [
    {
     "name": "stdout",
     "output_type": "stream",
     "text": [
      "The Ridge model mse is 13668938.46101259\n"
     ]
    }
   ],
   "source": [
    "ridge_md=make_pipeline(StandardScaler(), Ridge(alpha=10)).fit(X_train,y_train)\n",
    "ridge_pred=ridge_md.predict(X_test)\n",
    "ridge_mse=mean_squared_error(y_test, ridge_pred)\n",
    "print('The Ridge model mse is', ridge_mse)"
   ]
  },
  {
   "cell_type": "code",
   "execution_count": 42,
   "metadata": {},
   "outputs": [
    {
     "name": "stdout",
     "output_type": "stream",
     "text": [
      "I would use Linear Regression to predict car prices because it has a lower MSE.\n"
     ]
    }
   ],
   "source": [
    "if lm_mse < ridge_mse:\n",
    "    print(\"I would use Linear Regression to predict car prices because it has a lower MSE.\")\n",
    "else:\n",
    "    print(\"I would use Ridge Regression to predict car prices because it has a lower MSE.\")"
   ]
  }
 ],
 "metadata": {
  "kernelspec": {
   "display_name": "Python 3",
   "language": "python",
   "name": "python3"
  },
  "language_info": {
   "codemirror_mode": {
    "name": "ipython",
    "version": 3
   },
   "file_extension": ".py",
   "mimetype": "text/x-python",
   "name": "python",
   "nbconvert_exporter": "python",
   "pygments_lexer": "ipython3",
   "version": "3.11.4"
  },
  "orig_nbformat": 4
 },
 "nbformat": 4,
 "nbformat_minor": 2
}
