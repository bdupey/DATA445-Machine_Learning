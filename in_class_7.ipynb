{
 "cells": [
  {
   "cell_type": "code",
   "execution_count": 5,
   "metadata": {},
   "outputs": [],
   "source": [
    "import pandas as pd\n",
    "import numpy as np\n",
    "from sklearn.linear_model import LinearRegression, Ridge, RidgeCV, Lasso, LassoCV\n",
    "from sklearn.model_selection import train_test_split\n",
    "from sklearn.preprocessing import StandardScaler\n",
    "from sklearn.pipeline import make_pipeline\n",
    "from sklearn.metrics import mean_squared_error"
   ]
  },
  {
   "cell_type": "code",
   "execution_count": 6,
   "metadata": {},
   "outputs": [],
   "source": [
    "car_price=pd.read_csv('CarPrice_Assignment.csv')"
   ]
  },
  {
   "cell_type": "code",
   "execution_count": 32,
   "metadata": {},
   "outputs": [],
   "source": [
    "X=car_price[['wheelbase', 'enginesize', 'compressionratio', 'horsepower', 'peakrpm', 'citympg','highwaympg']].copy()\n",
    "Y=car_price['price']\n",
    "X_train,X_test,Y_train,Y_test=train_test_split(X,Y, test_size=0.2)"
   ]
  },
  {
   "cell_type": "code",
   "execution_count": 33,
   "metadata": {},
   "outputs": [
    {
     "data": {
      "text/plain": [
       "100.0"
      ]
     },
     "execution_count": 33,
     "metadata": {},
     "output_type": "execute_result"
    }
   ],
   "source": [
    "# LASSO CV\n",
    "lasso_cv=LassoCV(alphas=[0.001, 0.01, 0.1, 1, 10, 100], cv=5).fit(X_train, Y_train)\n",
    "lasso_cv.alpha_"
   ]
  },
  {
   "cell_type": "code",
   "execution_count": 34,
   "metadata": {},
   "outputs": [
    {
     "data": {
      "text/plain": [
       "array([ 141.37239422,  104.25089598,  377.89440284,   43.71186402,\n",
       "          2.33106355, -366.22879487,  166.71133955])"
      ]
     },
     "execution_count": 34,
     "metadata": {},
     "output_type": "execute_result"
    }
   ],
   "source": [
    "# Building LASSO\n",
    "lasso_md=Lasso(alpha=0.001).fit(X_train, Y_train)\n",
    "lasso_md.coef_"
   ]
  },
  {
   "cell_type": "code",
   "execution_count": 35,
   "metadata": {},
   "outputs": [
    {
     "data": {
      "text/plain": [
       "array([14455.6491673 , 10029.36285276,  9915.65505105, 11001.70963541,\n",
       "       13938.11392431,  8079.93704844, 16992.13849195,  6752.94165361,\n",
       "       28638.74466146,  7454.43998704,  5622.65439472, 10385.64024059,\n",
       "       24156.87301162,  5045.35343164, 11001.70963541, 17767.2478858 ,\n",
       "       12977.80066774, 12100.40600497,  5011.76788109, 11179.60038636,\n",
       "       17278.10519835, 11413.84178237, 16754.18318519,  5435.14467074,\n",
       "        6732.40695908,  5045.35343164, 12161.30267904, 16961.84621326,\n",
       "        6585.52075267, -2168.00980661,  6049.64388614, 36397.91144617,\n",
       "        6353.1979283 , 12977.80066774,  5435.14467074, 12497.74175088,\n",
       "       16259.66501111,  6752.94165361, 10220.63328334,  6940.90877516,\n",
       "       18260.67307063])"
      ]
     },
     "execution_count": 35,
     "metadata": {},
     "output_type": "execute_result"
    }
   ],
   "source": [
    "# Building Linear Regression Model\n",
    "lm_md=make_pipeline(StandardScaler(), LinearRegression()).fit(X_train, Y_train)\n",
    "\n",
    "# Predicting on the test\n",
    "lm_pred=lm_md.predict(X_test)\n",
    "lm_pred"
   ]
  },
  {
   "cell_type": "code",
   "execution_count": 37,
   "metadata": {},
   "outputs": [
    {
     "name": "stdout",
     "output_type": "stream",
     "text": [
      "The mse of the linear model is 8866353.134547167\n"
     ]
    }
   ],
   "source": [
    "lm_mse=mean_squared_error(Y_test, lm_pred)\n",
    "print(\"The mse of the linear model is\",lm_mse)"
   ]
  }
 ],
 "metadata": {
  "kernelspec": {
   "display_name": "Python 3",
   "language": "python",
   "name": "python3"
  },
  "language_info": {
   "codemirror_mode": {
    "name": "ipython",
    "version": 3
   },
   "file_extension": ".py",
   "mimetype": "text/x-python",
   "name": "python",
   "nbconvert_exporter": "python",
   "pygments_lexer": "ipython3",
   "version": "3.11.4"
  },
  "orig_nbformat": 4
 },
 "nbformat": 4,
 "nbformat_minor": 2
}
